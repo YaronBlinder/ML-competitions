{
 "cells": [
  {
   "cell_type": "code",
   "execution_count": 73,
   "metadata": {
    "collapsed": false
   },
   "outputs": [],
   "source": [
    "import numpy as np\n",
    "import pandas as pd"
   ]
  },
  {
   "cell_type": "code",
   "execution_count": 74,
   "metadata": {
    "collapsed": true
   },
   "outputs": [],
   "source": [
    "X = pd.read_csv('train_values.csv')\n",
    "y = pd.read_csv('train_labels.csv')"
   ]
  },
  {
   "cell_type": "code",
   "execution_count": 75,
   "metadata": {
    "collapsed": true
   },
   "outputs": [],
   "source": [
    "from sklearn.preprocessing import LabelEncoder\n",
    "lenc = LabelEncoder()\n",
    "lenc.fit(y.status_group)\n",
    "labeled_values = lenc.transform(y.status_group)\n",
    "y['labels'] = labeled_values"
   ]
  },
  {
   "cell_type": "code",
   "execution_count": 76,
   "metadata": {
    "collapsed": true
   },
   "outputs": [],
   "source": [
    "year_df = pd.DataFrame({'year':X.construction_year,'label':y.status_group})\n",
    "year_total = year_df.groupby('year').size()\n",
    "year_label = year_df.groupby(['year','label']).size()\n",
    "year_norm = year_label.div(year_total, level = 'year')"
   ]
  },
  {
   "cell_type": "code",
   "execution_count": 83,
   "metadata": {
    "collapsed": false
   },
   "outputs": [],
   "source": [
    "import datetime\n",
    "def preproc(X,top_funders,top_installers,*y):\n",
    "    #feature engineering\n",
    "    for year in set(X.construction_year):\n",
    "#         print(year)\n",
    "        if 0 in [value for value in year_norm[year].keys().values]:\n",
    "            X.loc[X.construction_year == year,'prob_f'] = year_norm[year][0]\n",
    "        else: \n",
    "            X.loc[X.construction_year == year,'prob_f'] = 0\n",
    "        if 1 in [value for value in year_norm[year].keys().values]:\n",
    "            X.loc[X.construction_year == year,'prob_fnr'] = year_norm[year][1]\n",
    "        else: \n",
    "            X.loc[X.construction_year == year,'prob_fnr'] = 0\n",
    "        if 2 in [value for value in year_norm[year].keys().values]:\n",
    "            X.loc[X.construction_year == year,'prob_nf'] =year_norm[year][2]\n",
    "        else: \n",
    "            X.loc[X.construction_year == year,'prob_nf'] = 0   \n",
    "    \n",
    "    pred_date = \"2014-01-01\"\n",
    "    X['date_recorded_offset_days']=[(datetime.datetime.strptime(pred_date, '%Y-%m-%d') - datetime.datetime.strptime(date, '%Y-%m-%d')).days for date in X.date_recorded]\n",
    "    X['month recorded'] = [str(datetime.datetime.strptime('2011-02-01', '%Y-%m-%d').month) for date in X.date_recorded]\n",
    "   \n",
    "    X.extraction_type = ['other' if extype == 'other - mkulima/shinyanga' else extype for extype in X.extraction_type] #not in test data\n",
    "#     X.construction_year = X.construction_year.replace(0,1987)\n",
    "    X.construction_year = X.construction_year.astype('object')\n",
    "    X.funder = ['Other' if val not in top_funders else val for val in X.funder]\n",
    "    X.installer = ['Other' if val not in top_installers else val for val in X.installer]\n",
    "    \n",
    "    cols_with_nulls = X.isnull().any()[X.isnull().any()].keys()\n",
    "    for col in cols_with_nulls:\n",
    "        X.loc[X[col].isnull(), col] = 'Other'\n",
    "    \n",
    "    #encoding categorical features\n",
    "    drop_list = ['construction_year','date_recorded', 'wpt_name', 'subvillage','ward','recorded_by','scheme_name','extraction_type_class','extraction_type_group','payment','quantity']\n",
    "    categorical_features = list(X.select_dtypes(include = ['object']).drop(drop_list,axis = 1).columns.values)\n",
    "    X_cat = X[categorical_features]\n",
    "    X_cat_ohe = pd.get_dummies(X_cat)\n",
    "    \n",
    "    preproc_X = X_cat_ohe.join(X.select_dtypes(include = ['int64','float64']).drop(['id','num_private','latitude','longitude'],axis = 1))\n",
    "        \n",
    "    return preproc_X"
   ]
  },
  {
   "cell_type": "code",
   "execution_count": 78,
   "metadata": {
    "collapsed": false
   },
   "outputs": [
    {
     "data": {
      "text/plain": [
       "functional                 0.543081\n",
       "non functional             0.384242\n",
       "functional needs repair    0.072677\n",
       "Name: status_group, dtype: float64"
      ]
     },
     "execution_count": 78,
     "metadata": {},
     "output_type": "execute_result"
    }
   ],
   "source": [
    "y.status_group.value_counts()/len(y)"
   ]
  },
  {
   "cell_type": "code",
   "execution_count": 79,
   "metadata": {
    "collapsed": true
   },
   "outputs": [],
   "source": [
    "# Failed experiments\n",
    "\n",
    "#     OVERFITTING (with mean):\n",
    "#     tsh_z_f_locs = [(a and b) for a,b in zip(X.amount_tsh==0, y.status_group=='functional')]\n",
    "#     tsh_z_nf_locs = [(a and b) for a,b in zip(X.amount_tsh==0, y.status_group=='non functional')]\n",
    "#     tsh_z_fnr_locs = [(a and b) for a,b in zip(X.amount_tsh==0, y.status_group=='functional needs repairs')]    \n",
    "    \n",
    "#     X.loc[tsh_z_f_locs, 'amount_tsh'] = tsh_vals['tsh_f']\n",
    "#     X.loc[tsh_z_nf_locs, 'amount_tsh'] = tsh_vals['tsh_nf']\n",
    "#     X.loc[tsh_z_fnr_locs, 'amount_tsh'] = tsh_vals['tsh_fnr']\n",
    "\n",
    "# #     Testing - This didn't work\n",
    "\n",
    "#     tsh_z_f_locs = [(a and b) for a,b in zip(X.amount_tsh==0, y.status_group=='functional')]\n",
    "#     tsh_z_nf_locs = [(a and b) for a,b in zip(X.amount_tsh==0, y.status_group=='non functional')]\n",
    "#     tsh_z_fnr_locs = [(a and b) for a,b in zip(X.amount_tsh==0, y.status_group=='functional needs repairs')]    \n",
    "    \n",
    "#     X.loc[tsh_z_f_locs, 'amount_tsh'] = tsh_vals['tsh_f']\n",
    "#     X.loc[tsh_z_nf_locs, 'amount_tsh'] = tsh_vals['tsh_nf']\n",
    "#     X.loc[tsh_z_fnr_locs, 'amount_tsh'] = tsh_vals['tsh_fnr']\n",
    "\n",
    "# Removing FNR:\n",
    "# y2 = y.copy()\n",
    "# y2.loc[y2.status_group=='functional needs repair','status_group'] = 'non functional'\n",
    "# lenc.fit(y2.status_group)\n",
    "# labeled_values = lenc.transform(y2.status_group)\n",
    "# y2['labels'] = labeled_values"
   ]
  },
  {
   "cell_type": "code",
   "execution_count": 80,
   "metadata": {
    "collapsed": false
   },
   "outputs": [],
   "source": [
    "top_funders = X.funder.value_counts().keys()[0:30]\n",
    "top_installers = X.installer.value_counts().keys()[0:30]\n",
    "\n",
    "# tsh_nz_f_locs = [(a and b) for a,b in zip(X.amount_tsh!=0, y.status_group=='functional')]\n",
    "# tsh_nz_nf_locs = [(a and b) for a,b in zip(X.amount_tsh!=0, y.status_group=='non functional')]\n",
    "# tsh_nz_fnr_locs = [(a and b) for a,b in zip(X.amount_tsh!=0, y.status_group=='functional needs repairs')]\n",
    "\n",
    "# tsh_vals = {\n",
    "#     'tsh_f':X.loc[tsh_nz_f_locs].amount_tsh.median(),\n",
    "#     'tsh_nf':X.loc[tsh_nz_nf_locs].amount_tsh.median(),\n",
    "#     'tsh_fnr':X.loc[tsh_nz_fnr_locs].amount_tsh.median()\n",
    "# }\n",
    "    "
   ]
  },
  {
   "cell_type": "code",
   "execution_count": 84,
   "metadata": {
    "collapsed": false
   },
   "outputs": [],
   "source": [
    "X_pp = preproc(X,top_funders,top_installers)\n",
    "\n",
    "#Remove features that don't appear in the test data\n",
    "X_pp = X_pp.drop(['scheme_management_None'],axis=1) "
   ]
  },
  {
   "cell_type": "code",
   "execution_count": 85,
   "metadata": {
    "collapsed": true
   },
   "outputs": [],
   "source": [
    "from sklearn.ensemble import RandomForestClassifier\n",
    "clf = RandomForestClassifier(n_estimators=150, min_samples_leaf=2 ,max_features='sqrt', random_state=314)\n",
    "from sklearn.metrics import log_loss, accuracy_score"
   ]
  },
  {
   "cell_type": "code",
   "execution_count": 86,
   "metadata": {
    "collapsed": false
   },
   "outputs": [
    {
     "name": "stdout",
     "output_type": "stream",
     "text": [
      "acc: 0.805403585557\n",
      "acc: 0.800858513593\n",
      "acc: 0.80303030303\n",
      "acc: 0.802693602694\n",
      "acc: 0.803249705338\n",
      "mean acc = 0.803047142042\n"
     ]
    }
   ],
   "source": [
    "from sklearn.cross_validation import StratifiedKFold \n",
    "eval_size = 0.2\n",
    "n_folds = round(1./eval_size)\n",
    "kf = StratifiedKFold(y['labels'], n_folds = n_folds, random_state=314)\n",
    "# total = 0\n",
    "acc_total = 0\n",
    "for train_indices, valid_indices in kf:\n",
    "    X_train, y_train = X_pp.iloc[train_indices], y['labels'].iloc[train_indices]\n",
    "    X_valid, y_valid = X_pp.iloc[valid_indices], y['labels'].iloc[valid_indices]\n",
    "    clf.fit(X_train,y_train)\n",
    "    clf_pred = clf.predict(X_valid)\n",
    "    acc_score = accuracy_score(y_valid, clf_pred)\n",
    "    acc_total += acc_score\n",
    "    print('acc: '+str(acc_score))\n",
    "#     clf_probs = clf.predict_proba(X_valid)\n",
    "#     sig_ll_score = log_loss(y_valid, clf_probs)\n",
    "#     print('log_loss = '+str(sig_score))\n",
    "#     total += sig_score\n",
    "# avg_score = total/n_folds\n",
    "# print('mean log_loss = '+str(avg_score))\n",
    "avg_acc = acc_total/n_folds\n",
    "print('mean acc = '+str(avg_acc))"
   ]
  },
  {
   "cell_type": "code",
   "execution_count": 13,
   "metadata": {
    "collapsed": false
   },
   "outputs": [
    {
     "data": {
      "text/plain": [
       "(59400, 361)"
      ]
     },
     "execution_count": 13,
     "metadata": {},
     "output_type": "execute_result"
    }
   ],
   "source": [
    "X_pp.shape"
   ]
  },
  {
   "cell_type": "code",
   "execution_count": 303,
   "metadata": {
    "collapsed": false,
    "scrolled": true
   },
   "outputs": [
    {
     "name": "stdout",
     "output_type": "stream",
     "text": [
      "acc: 0.817539134826\n",
      "acc: 0.816024238344\n",
      "acc: 0.814172698199\n",
      "acc: 0.809123043259\n",
      "acc: 0.822053872054\n",
      "acc: 0.810942760943\n",
      "acc: 0.81228956229\n",
      "acc: 0.808385250042\n",
      "acc: 0.805859572319\n",
      "acc: 0.81980464803\n",
      "mean acc = 0.81361947803\n"
     ]
    }
   ],
   "source": [
    "# from sklearn.cross_validation import StratifiedKFold \n",
    "# eval_size = 0.1\n",
    "# n_folds = round(1./eval_size)\n",
    "# kf = StratifiedKFold(y['labels'], n_folds = n_folds, random_state=314)\n",
    "# # total = 0\n",
    "# acc_total = 0\n",
    "# for train_indices, valid_indices in kf:\n",
    "#     X_train, y_train = X_pp.iloc[train_indices], y['labels'].iloc[train_indices]\n",
    "#     X_valid, y_valid = X_pp.iloc[valid_indices], y['labels'].iloc[valid_indices]\n",
    "#     clf.fit(X_train,y_train)\n",
    "#     clf_pred = clf.predict(X_valid)\n",
    "#     acc_score = accuracy_score(y_valid, clf_pred)\n",
    "#     acc_total += acc_score\n",
    "#     print('acc: '+str(acc_score))\n",
    "# #     clf_probs = clf.predict_proba(X_valid)\n",
    "# #     sig_ll_score = log_loss(y_valid, clf_probs)\n",
    "# #     print('log_loss = '+str(sig_score))\n",
    "# #     total += sig_score\n",
    "# # avg_score = total/n_folds\n",
    "# # print('mean log_loss = '+str(avg_score))\n",
    "# avg_acc = acc_total/n_folds\n",
    "# print('mean acc = '+str(avg_acc))"
   ]
  },
  {
   "cell_type": "code",
   "execution_count": 233,
   "metadata": {
    "collapsed": false
   },
   "outputs": [],
   "source": [
    "#y_train.value_counts()/len(y_train)"
   ]
  },
  {
   "cell_type": "code",
   "execution_count": 234,
   "metadata": {
    "collapsed": false
   },
   "outputs": [],
   "source": [
    "#y_valid.value_counts()/len(y_valid)"
   ]
  },
  {
   "cell_type": "code",
   "execution_count": 235,
   "metadata": {
    "collapsed": false
   },
   "outputs": [],
   "source": [
    "#clf"
   ]
  },
  {
   "cell_type": "code",
   "execution_count": 60,
   "metadata": {
    "collapsed": false
   },
   "outputs": [
    {
     "data": {
      "text/plain": [
       "GridSearchCV(cv=None, error_score='raise',\n",
       "       estimator=RandomForestClassifier(bootstrap=True, class_weight=None, criterion='gini',\n",
       "            max_depth=None, max_features='sqrt', max_leaf_nodes=None,\n",
       "            min_samples_leaf=2, min_samples_split=2,\n",
       "            min_weight_fraction_leaf=0.0, n_estimators=150, n_jobs=1,\n",
       "            oob_score=False, random_state=314, verbose=0, warm_start=False),\n",
       "       fit_params={}, iid=True, n_jobs=1,\n",
       "       param_grid={'class_weight': [None, 'balanced']},\n",
       "       pre_dispatch='2*n_jobs', refit=True, scoring='accuracy', verbose=0)"
      ]
     },
     "execution_count": 60,
     "metadata": {},
     "output_type": "execute_result"
    }
   ],
   "source": [
    "from sklearn.grid_search import GridSearchCV\n",
    "param_test1 = {\n",
    " 'class_weight':[None,\"balanced\"],\n",
    "}\n",
    "gsearch1 = GridSearchCV(clf,param_test1,scoring='accuracy')\n",
    "gsearch1.fit(X_pp,y['labels'])\n"
   ]
  },
  {
   "cell_type": "code",
   "execution_count": 61,
   "metadata": {
    "collapsed": false
   },
   "outputs": [
    {
     "data": {
      "text/plain": [
       "[mean: 0.80589, std: 0.00180, params: {'class_weight': None},\n",
       " mean: 0.77981, std: 0.00230, params: {'class_weight': 'balanced'}]"
      ]
     },
     "execution_count": 61,
     "metadata": {},
     "output_type": "execute_result"
    }
   ],
   "source": [
    "gsearch1.grid_scores_"
   ]
  },
  {
   "cell_type": "code",
   "execution_count": 62,
   "metadata": {
    "collapsed": false
   },
   "outputs": [
    {
     "data": {
      "text/plain": [
       "RandomForestClassifier(bootstrap=True, class_weight=None, criterion='gini',\n",
       "            max_depth=None, max_features='sqrt', max_leaf_nodes=None,\n",
       "            min_samples_leaf=2, min_samples_split=2,\n",
       "            min_weight_fraction_leaf=0.0, n_estimators=150, n_jobs=1,\n",
       "            oob_score=False, random_state=314, verbose=0, warm_start=False)"
      ]
     },
     "execution_count": 62,
     "metadata": {},
     "output_type": "execute_result"
    }
   ],
   "source": [
    "bestclf = gsearch1.best_estimator_\n",
    "bestclf"
   ]
  },
  {
   "cell_type": "code",
   "execution_count": 21,
   "metadata": {
    "collapsed": false
   },
   "outputs": [],
   "source": [
    "# bestclf.fit(X_pp,y['labels'])\n",
    "clf.fit(X_pp,y2['labels'])\n",
    "X_test = pd.read_csv('test_values.csv')\n",
    "X_test_pp = preproc(X_test,top_funders,top_installers)"
   ]
  },
  {
   "cell_type": "code",
   "execution_count": 15,
   "metadata": {
    "collapsed": false,
    "scrolled": true
   },
   "outputs": [
    {
     "data": {
      "text/plain": [
       "(14850, 361)"
      ]
     },
     "execution_count": 15,
     "metadata": {},
     "output_type": "execute_result"
    }
   ],
   "source": [
    "X_test_pp.shape"
   ]
  },
  {
   "cell_type": "code",
   "execution_count": 22,
   "metadata": {
    "collapsed": false
   },
   "outputs": [],
   "source": [
    "test_predictions = clf.predict(X_test_pp)\n",
    "text_labels = {0:'functional', 1:'functional needs repair', 2:'non functional'}\n",
    "report = pd.DataFrame({'id':X_test.id,'pred':test_predictions})\n",
    "report['status_group'] = report.pred.map(text_labels)\n",
    "report = report.drop('pred',axis = 1)\n",
    "report.to_csv('rep_RFC_no_fnr2.csv', index = False)"
   ]
  },
  {
   "cell_type": "code",
   "execution_count": 312,
   "metadata": {
    "collapsed": false
   },
   "outputs": [
    {
     "ename": "TypeError",
     "evalue": "tuple indices must be integers or slices, not str",
     "output_type": "error",
     "traceback": [
      "\u001b[1;31m\u001b[0m",
      "\u001b[1;31mTypeError\u001b[0mTraceback (most recent call last)",
      "\u001b[1;32m<ipython-input-312-16640c7a0527>\u001b[0m in \u001b[0;36m<module>\u001b[1;34m()\u001b[0m\n\u001b[0;32m      9\u001b[0m }\n\u001b[0;32m     10\u001b[0m \u001b[1;33m\u001b[0m\u001b[0m\n\u001b[1;32m---> 11\u001b[1;33m \u001b[0mX_test_pp\u001b[0m \u001b[1;33m=\u001b[0m \u001b[0mpreproc\u001b[0m\u001b[1;33m(\u001b[0m\u001b[0mX_test\u001b[0m\u001b[1;33m,\u001b[0m\u001b[0mtop_funders\u001b[0m\u001b[1;33m,\u001b[0m\u001b[0mtop_installers\u001b[0m\u001b[1;33m,\u001b[0m\u001b[0mtsh_vals\u001b[0m\u001b[1;33m)\u001b[0m\u001b[1;33m\u001b[0m\u001b[0m\n\u001b[0m",
      "\u001b[1;32m<ipython-input-311-ca6bcafed26a>\u001b[0m in \u001b[0;36mpreproc\u001b[1;34m(X, top_funders, top_installers, *tsh_vals)\u001b[0m\n\u001b[0;32m     30\u001b[0m     \u001b[0mtsh_z_fnr_locs\u001b[0m \u001b[1;33m=\u001b[0m \u001b[1;33m[\u001b[0m\u001b[1;33m(\u001b[0m\u001b[0ma\u001b[0m \u001b[1;32mand\u001b[0m \u001b[0mb\u001b[0m\u001b[1;33m)\u001b[0m \u001b[1;32mfor\u001b[0m \u001b[0ma\u001b[0m\u001b[1;33m,\u001b[0m\u001b[0mb\u001b[0m \u001b[1;32min\u001b[0m \u001b[0mzip\u001b[0m\u001b[1;33m(\u001b[0m\u001b[0mX\u001b[0m\u001b[1;33m.\u001b[0m\u001b[0mamount_tsh\u001b[0m\u001b[1;33m==\u001b[0m\u001b[1;36m0\u001b[0m\u001b[1;33m,\u001b[0m \u001b[0mreport\u001b[0m\u001b[1;33m.\u001b[0m\u001b[0mstatus_group\u001b[0m\u001b[1;33m==\u001b[0m\u001b[1;34m'functional needs repairs'\u001b[0m\u001b[1;33m)\u001b[0m\u001b[1;33m]\u001b[0m\u001b[1;33m\u001b[0m\u001b[0m\n\u001b[0;32m     31\u001b[0m \u001b[1;33m\u001b[0m\u001b[0m\n\u001b[1;32m---> 32\u001b[1;33m     \u001b[0mX\u001b[0m\u001b[1;33m.\u001b[0m\u001b[0mloc\u001b[0m\u001b[1;33m[\u001b[0m\u001b[0mtsh_z_f_locs\u001b[0m\u001b[1;33m,\u001b[0m \u001b[1;34m'amount_tsh'\u001b[0m\u001b[1;33m]\u001b[0m \u001b[1;33m=\u001b[0m \u001b[0mtsh_vals\u001b[0m\u001b[1;33m[\u001b[0m\u001b[1;34m'tsh_f'\u001b[0m\u001b[1;33m]\u001b[0m\u001b[1;33m\u001b[0m\u001b[0m\n\u001b[0m\u001b[0;32m     33\u001b[0m     \u001b[0mX\u001b[0m\u001b[1;33m.\u001b[0m\u001b[0mloc\u001b[0m\u001b[1;33m[\u001b[0m\u001b[0mtsh_z_nf_locs\u001b[0m\u001b[1;33m,\u001b[0m \u001b[1;34m'amount_tsh'\u001b[0m\u001b[1;33m]\u001b[0m \u001b[1;33m=\u001b[0m \u001b[0mtsh_vals\u001b[0m\u001b[1;33m[\u001b[0m\u001b[1;34m'tsh_nf'\u001b[0m\u001b[1;33m]\u001b[0m\u001b[1;33m\u001b[0m\u001b[0m\n\u001b[0;32m     34\u001b[0m     \u001b[0mX\u001b[0m\u001b[1;33m.\u001b[0m\u001b[0mloc\u001b[0m\u001b[1;33m[\u001b[0m\u001b[0mtsh_z_fnr_locs\u001b[0m\u001b[1;33m,\u001b[0m \u001b[1;34m'amount_tsh'\u001b[0m\u001b[1;33m]\u001b[0m \u001b[1;33m=\u001b[0m \u001b[0mtsh_vals\u001b[0m\u001b[1;33m[\u001b[0m\u001b[1;34m'tsh_fnr'\u001b[0m\u001b[1;33m]\u001b[0m\u001b[1;33m\u001b[0m\u001b[0m\n",
      "\u001b[1;31mTypeError\u001b[0m: tuple indices must be integers or slices, not str"
     ]
    }
   ],
   "source": [
    "tsh_nz_f_locs = [(a and b) for a,b in zip(X_test.amount_tsh!=0, report.status_group=='functional')]\n",
    "tsh_nz_nf_locs = [(a and b) for a,b in zip(X_test.amount_tsh!=0, report.status_group=='non functional')]\n",
    "tsh_nz_fnr_locs = [(a and b) for a,b in zip(X_test.amount_tsh!=0, report.status_group=='functional needs repairs')]\n",
    "\n",
    "tsh_vals = {\n",
    "    'tsh_f':X_test.loc[tsh_nz_f_locs].amount_tsh.mean(),\n",
    "    'tsh_nf':X_test.loc[tsh_nz_nf_locs].amount_tsh.mean(),\n",
    "    'tsh_fnr':X_test.loc[tsh_nz_fnr_locs].amount_tsh.mean()\n",
    "}\n",
    "\n",
    "X_test_pp = preproc(X_test,report,top_funders,top_installers,tsh_vals)"
   ]
  },
  {
   "cell_type": "code",
   "execution_count": 25,
   "metadata": {
    "collapsed": false
   },
   "outputs": [
    {
     "data": {
      "text/plain": [
       "(59400, 341)"
      ]
     },
     "execution_count": 25,
     "metadata": {},
     "output_type": "execute_result"
    }
   ],
   "source": [
    "X_pp2.shape"
   ]
  },
  {
   "cell_type": "code",
   "execution_count": 27,
   "metadata": {
    "collapsed": false
   },
   "outputs": [
    {
     "data": {
      "text/plain": [
       "(14850, 341)"
      ]
     },
     "execution_count": 27,
     "metadata": {},
     "output_type": "execute_result"
    }
   ],
   "source": [
    "X_test_pp2.shape"
   ]
  },
  {
   "cell_type": "code",
   "execution_count": 32,
   "metadata": {
    "collapsed": false
   },
   "outputs": [
    {
     "data": {
      "text/plain": [
       "functional                 10223\n",
       "non functional              4598\n",
       "functional needs repair       29\n",
       "Name: status_group, dtype: int64"
      ]
     },
     "execution_count": 32,
     "metadata": {},
     "output_type": "execute_result"
    }
   ],
   "source": [
    "report.status_group.value_counts()"
   ]
  }
 ],
 "metadata": {
  "anaconda-cloud": {},
  "kernelspec": {
   "display_name": "Python [conda root]",
   "language": "python",
   "name": "conda-root-py"
  },
  "language_info": {
   "codemirror_mode": {
    "name": "ipython",
    "version": 3
   },
   "file_extension": ".py",
   "mimetype": "text/x-python",
   "name": "python",
   "nbconvert_exporter": "python",
   "pygments_lexer": "ipython3",
   "version": "3.5.2"
  }
 },
 "nbformat": 4,
 "nbformat_minor": 0
}
